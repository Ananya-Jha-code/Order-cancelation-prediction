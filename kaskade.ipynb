{
 "cells": [
  {
   "cell_type": "code",
   "execution_count": 1,
   "id": "48fb69a3",
   "metadata": {},
   "outputs": [],
   "source": [
    "import pandas as pd\n",
    "import numpy as np"
   ]
  },
  {
   "cell_type": "code",
   "execution_count": 2,
   "id": "b81aa0d8",
   "metadata": {},
   "outputs": [],
   "source": [
    "df=pd.read_csv(\"C:/Users/DELL/Projects/cascade-cup-22/train.csv\")"
   ]
  },
  {
   "cell_type": "code",
   "execution_count": 3,
   "id": "672183ae",
   "metadata": {},
   "outputs": [
    {
     "name": "stdout",
     "output_type": "stream",
     "text": [
      "<class 'pandas.core.frame.DataFrame'>\n",
      "RangeIndex: 450000 entries, 0 to 449999\n",
      "Data columns (total 20 columns):\n",
      " #   Column                Non-Null Count   Dtype  \n",
      "---  ------                --------------   -----  \n",
      " 0   order_time            450000 non-null  object \n",
      " 1   order_id              450000 non-null  int64  \n",
      " 2   order_date            450000 non-null  object \n",
      " 3   allot_time            450000 non-null  object \n",
      " 4   accept_time           449843 non-null  object \n",
      " 5   pickup_time           447579 non-null  object \n",
      " 6   delivered_time        444782 non-null  object \n",
      " 7   rider_id              450000 non-null  int64  \n",
      " 8   first_mile_distance   450000 non-null  float64\n",
      " 9   last_mile_distance    450000 non-null  float64\n",
      " 10  alloted_orders        433052 non-null  float64\n",
      " 11  delivered_orders      432659 non-null  float64\n",
      " 12  cancelled             450000 non-null  int64  \n",
      " 13  undelivered_orders    432659 non-null  float64\n",
      " 14  lifetime_order_count  449947 non-null  float64\n",
      " 15  reassignment_method   13744 non-null   object \n",
      " 16  reassignment_reason   13753 non-null   object \n",
      " 17  reassigned_order      13753 non-null   float64\n",
      " 18  session_time          446325 non-null  float64\n",
      " 19  cancelled_time        5218 non-null    object \n",
      "dtypes: float64(8), int64(3), object(9)\n",
      "memory usage: 68.7+ MB\n"
     ]
    }
   ],
   "source": [
    "df.info()"
   ]
  },
  {
   "cell_type": "code",
   "execution_count": 4,
   "id": "60af2d50",
   "metadata": {},
   "outputs": [
    {
     "data": {
      "text/plain": [
       "order_time                   0\n",
       "order_id                     0\n",
       "order_date                   0\n",
       "allot_time                   0\n",
       "accept_time                157\n",
       "pickup_time               2421\n",
       "delivered_time            5218\n",
       "rider_id                     0\n",
       "first_mile_distance          0\n",
       "last_mile_distance           0\n",
       "alloted_orders           16948\n",
       "delivered_orders         17341\n",
       "cancelled                    0\n",
       "undelivered_orders       17341\n",
       "lifetime_order_count        53\n",
       "reassignment_method     436256\n",
       "reassignment_reason     436247\n",
       "reassigned_order        436247\n",
       "session_time              3675\n",
       "cancelled_time          444782\n",
       "dtype: int64"
      ]
     },
     "execution_count": 4,
     "metadata": {},
     "output_type": "execute_result"
    }
   ],
   "source": [
    "df.isnull().sum()"
   ]
  },
  {
   "cell_type": "code",
   "execution_count": 5,
   "id": "4422b069",
   "metadata": {},
   "outputs": [],
   "source": [
    "df=df.drop(['reassignment_method','reassignment_reason','reassigned_order','cancelled_time'],axis=1)"
   ]
  },
  {
   "cell_type": "code",
   "execution_count": 6,
   "id": "ed9a9471",
   "metadata": {},
   "outputs": [],
   "source": [
    "df['order_time'] = pd.to_datetime(df.order_time, format='%d-%m-%Y %H:%M')\n",
    "df['hour']=df['order_time'].dt.hour"
   ]
  },
  {
   "cell_type": "code",
   "execution_count": 7,
   "id": "8c5ae617",
   "metadata": {},
   "outputs": [],
   "source": [
    "df=df.drop(['order_time','order_id','order_date','allot_time','pickup_time','delivered_time','rider_id'],axis=1)"
   ]
  },
  {
   "cell_type": "code",
   "execution_count": 8,
   "id": "a97401d3",
   "metadata": {},
   "outputs": [
    {
     "name": "stdout",
     "output_type": "stream",
     "text": [
      "<class 'pandas.core.frame.DataFrame'>\n",
      "RangeIndex: 450000 entries, 0 to 449999\n",
      "Data columns (total 10 columns):\n",
      " #   Column                Non-Null Count   Dtype  \n",
      "---  ------                --------------   -----  \n",
      " 0   accept_time           449843 non-null  object \n",
      " 1   first_mile_distance   450000 non-null  float64\n",
      " 2   last_mile_distance    450000 non-null  float64\n",
      " 3   alloted_orders        433052 non-null  float64\n",
      " 4   delivered_orders      432659 non-null  float64\n",
      " 5   cancelled             450000 non-null  int64  \n",
      " 6   undelivered_orders    432659 non-null  float64\n",
      " 7   lifetime_order_count  449947 non-null  float64\n",
      " 8   session_time          446325 non-null  float64\n",
      " 9   hour                  450000 non-null  int64  \n",
      "dtypes: float64(7), int64(2), object(1)\n",
      "memory usage: 34.3+ MB\n"
     ]
    }
   ],
   "source": [
    "df.info()"
   ]
  },
  {
   "cell_type": "code",
   "execution_count": 9,
   "id": "296f610d",
   "metadata": {},
   "outputs": [],
   "source": [
    "df.drop(['accept_time'],axis=1,inplace=True);"
   ]
  },
  {
   "cell_type": "code",
   "execution_count": 10,
   "id": "f12d794a",
   "metadata": {},
   "outputs": [
    {
     "name": "stdout",
     "output_type": "stream",
     "text": [
      "<class 'pandas.core.frame.DataFrame'>\n",
      "RangeIndex: 450000 entries, 0 to 449999\n",
      "Data columns (total 9 columns):\n",
      " #   Column                Non-Null Count   Dtype  \n",
      "---  ------                --------------   -----  \n",
      " 0   first_mile_distance   450000 non-null  float64\n",
      " 1   last_mile_distance    450000 non-null  float64\n",
      " 2   alloted_orders        433052 non-null  float64\n",
      " 3   delivered_orders      432659 non-null  float64\n",
      " 4   cancelled             450000 non-null  int64  \n",
      " 5   undelivered_orders    432659 non-null  float64\n",
      " 6   lifetime_order_count  449947 non-null  float64\n",
      " 7   session_time          446325 non-null  float64\n",
      " 8   hour                  450000 non-null  int64  \n",
      "dtypes: float64(7), int64(2)\n",
      "memory usage: 30.9 MB\n"
     ]
    }
   ],
   "source": [
    "df.info()"
   ]
  },
  {
   "cell_type": "code",
   "execution_count": 11,
   "id": "96ca4591",
   "metadata": {},
   "outputs": [],
   "source": [
    "df['hour']=df['hour'].astype('category')\n",
    "df['cancelled']=df['cancelled'].astype('category')\n"
   ]
  },
  {
   "cell_type": "code",
   "execution_count": 12,
   "id": "e862aa4d",
   "metadata": {},
   "outputs": [],
   "source": [
    "Y=df.cancelled"
   ]
  },
  {
   "cell_type": "code",
   "execution_count": 13,
   "id": "21469c43",
   "metadata": {},
   "outputs": [],
   "source": [
    "X=df.drop(['cancelled'],axis=1)"
   ]
  },
  {
   "cell_type": "code",
   "execution_count": 14,
   "id": "25f9a0f9",
   "metadata": {},
   "outputs": [],
   "source": [
    "X_dum=pd.get_dummies(X,prefix_sep='-',drop_first=True)"
   ]
  },
  {
   "cell_type": "code",
   "execution_count": 15,
   "id": "a9809880",
   "metadata": {},
   "outputs": [
    {
     "data": {
      "text/html": [
       "<div>\n",
       "<style scoped>\n",
       "    .dataframe tbody tr th:only-of-type {\n",
       "        vertical-align: middle;\n",
       "    }\n",
       "\n",
       "    .dataframe tbody tr th {\n",
       "        vertical-align: top;\n",
       "    }\n",
       "\n",
       "    .dataframe thead th {\n",
       "        text-align: right;\n",
       "    }\n",
       "</style>\n",
       "<table border=\"1\" class=\"dataframe\">\n",
       "  <thead>\n",
       "    <tr style=\"text-align: right;\">\n",
       "      <th></th>\n",
       "      <th>first_mile_distance</th>\n",
       "      <th>last_mile_distance</th>\n",
       "      <th>alloted_orders</th>\n",
       "      <th>delivered_orders</th>\n",
       "      <th>undelivered_orders</th>\n",
       "      <th>lifetime_order_count</th>\n",
       "      <th>session_time</th>\n",
       "      <th>hour-1</th>\n",
       "      <th>hour-2</th>\n",
       "      <th>hour-3</th>\n",
       "      <th>...</th>\n",
       "      <th>hour-12</th>\n",
       "      <th>hour-13</th>\n",
       "      <th>hour-14</th>\n",
       "      <th>hour-15</th>\n",
       "      <th>hour-16</th>\n",
       "      <th>hour-17</th>\n",
       "      <th>hour-18</th>\n",
       "      <th>hour-19</th>\n",
       "      <th>hour-20</th>\n",
       "      <th>hour-21</th>\n",
       "    </tr>\n",
       "  </thead>\n",
       "  <tbody>\n",
       "    <tr>\n",
       "      <th>0</th>\n",
       "      <td>1.5666</td>\n",
       "      <td>2.65</td>\n",
       "      <td>46.0</td>\n",
       "      <td>46.0</td>\n",
       "      <td>0.0</td>\n",
       "      <td>621.0</td>\n",
       "      <td>NaN</td>\n",
       "      <td>0</td>\n",
       "      <td>1</td>\n",
       "      <td>0</td>\n",
       "      <td>...</td>\n",
       "      <td>0</td>\n",
       "      <td>0</td>\n",
       "      <td>0</td>\n",
       "      <td>0</td>\n",
       "      <td>0</td>\n",
       "      <td>0</td>\n",
       "      <td>0</td>\n",
       "      <td>0</td>\n",
       "      <td>0</td>\n",
       "      <td>0</td>\n",
       "    </tr>\n",
       "    <tr>\n",
       "      <th>1</th>\n",
       "      <td>2.5207</td>\n",
       "      <td>2.76</td>\n",
       "      <td>8.0</td>\n",
       "      <td>8.0</td>\n",
       "      <td>0.0</td>\n",
       "      <td>105.0</td>\n",
       "      <td>3.266667</td>\n",
       "      <td>0</td>\n",
       "      <td>1</td>\n",
       "      <td>0</td>\n",
       "      <td>...</td>\n",
       "      <td>0</td>\n",
       "      <td>0</td>\n",
       "      <td>0</td>\n",
       "      <td>0</td>\n",
       "      <td>0</td>\n",
       "      <td>0</td>\n",
       "      <td>0</td>\n",
       "      <td>0</td>\n",
       "      <td>0</td>\n",
       "      <td>0</td>\n",
       "    </tr>\n",
       "    <tr>\n",
       "      <th>2</th>\n",
       "      <td>2.2074</td>\n",
       "      <td>4.80</td>\n",
       "      <td>1.0</td>\n",
       "      <td>1.0</td>\n",
       "      <td>0.0</td>\n",
       "      <td>66.0</td>\n",
       "      <td>9.816667</td>\n",
       "      <td>0</td>\n",
       "      <td>1</td>\n",
       "      <td>0</td>\n",
       "      <td>...</td>\n",
       "      <td>0</td>\n",
       "      <td>0</td>\n",
       "      <td>0</td>\n",
       "      <td>0</td>\n",
       "      <td>0</td>\n",
       "      <td>0</td>\n",
       "      <td>0</td>\n",
       "      <td>0</td>\n",
       "      <td>0</td>\n",
       "      <td>0</td>\n",
       "    </tr>\n",
       "    <tr>\n",
       "      <th>3</th>\n",
       "      <td>2.1894</td>\n",
       "      <td>6.38</td>\n",
       "      <td>1.0</td>\n",
       "      <td>1.0</td>\n",
       "      <td>0.0</td>\n",
       "      <td>127.0</td>\n",
       "      <td>17.533333</td>\n",
       "      <td>0</td>\n",
       "      <td>1</td>\n",
       "      <td>0</td>\n",
       "      <td>...</td>\n",
       "      <td>0</td>\n",
       "      <td>0</td>\n",
       "      <td>0</td>\n",
       "      <td>0</td>\n",
       "      <td>0</td>\n",
       "      <td>0</td>\n",
       "      <td>0</td>\n",
       "      <td>0</td>\n",
       "      <td>0</td>\n",
       "      <td>0</td>\n",
       "    </tr>\n",
       "    <tr>\n",
       "      <th>4</th>\n",
       "      <td>2.7870</td>\n",
       "      <td>4.01</td>\n",
       "      <td>34.0</td>\n",
       "      <td>34.0</td>\n",
       "      <td>0.0</td>\n",
       "      <td>84.0</td>\n",
       "      <td>1.350000</td>\n",
       "      <td>0</td>\n",
       "      <td>0</td>\n",
       "      <td>1</td>\n",
       "      <td>...</td>\n",
       "      <td>0</td>\n",
       "      <td>0</td>\n",
       "      <td>0</td>\n",
       "      <td>0</td>\n",
       "      <td>0</td>\n",
       "      <td>0</td>\n",
       "      <td>0</td>\n",
       "      <td>0</td>\n",
       "      <td>0</td>\n",
       "      <td>0</td>\n",
       "    </tr>\n",
       "    <tr>\n",
       "      <th>...</th>\n",
       "      <td>...</td>\n",
       "      <td>...</td>\n",
       "      <td>...</td>\n",
       "      <td>...</td>\n",
       "      <td>...</td>\n",
       "      <td>...</td>\n",
       "      <td>...</td>\n",
       "      <td>...</td>\n",
       "      <td>...</td>\n",
       "      <td>...</td>\n",
       "      <td>...</td>\n",
       "      <td>...</td>\n",
       "      <td>...</td>\n",
       "      <td>...</td>\n",
       "      <td>...</td>\n",
       "      <td>...</td>\n",
       "      <td>...</td>\n",
       "      <td>...</td>\n",
       "      <td>...</td>\n",
       "      <td>...</td>\n",
       "      <td>...</td>\n",
       "    </tr>\n",
       "    <tr>\n",
       "      <th>449995</th>\n",
       "      <td>0.5789</td>\n",
       "      <td>0.19</td>\n",
       "      <td>4.0</td>\n",
       "      <td>4.0</td>\n",
       "      <td>0.0</td>\n",
       "      <td>127.0</td>\n",
       "      <td>369.516667</td>\n",
       "      <td>0</td>\n",
       "      <td>0</td>\n",
       "      <td>0</td>\n",
       "      <td>...</td>\n",
       "      <td>0</td>\n",
       "      <td>0</td>\n",
       "      <td>0</td>\n",
       "      <td>0</td>\n",
       "      <td>0</td>\n",
       "      <td>0</td>\n",
       "      <td>0</td>\n",
       "      <td>0</td>\n",
       "      <td>0</td>\n",
       "      <td>0</td>\n",
       "    </tr>\n",
       "    <tr>\n",
       "      <th>449996</th>\n",
       "      <td>1.9863</td>\n",
       "      <td>1.19</td>\n",
       "      <td>81.0</td>\n",
       "      <td>81.0</td>\n",
       "      <td>0.0</td>\n",
       "      <td>105.0</td>\n",
       "      <td>239.133333</td>\n",
       "      <td>0</td>\n",
       "      <td>0</td>\n",
       "      <td>0</td>\n",
       "      <td>...</td>\n",
       "      <td>0</td>\n",
       "      <td>0</td>\n",
       "      <td>0</td>\n",
       "      <td>0</td>\n",
       "      <td>0</td>\n",
       "      <td>0</td>\n",
       "      <td>0</td>\n",
       "      <td>0</td>\n",
       "      <td>0</td>\n",
       "      <td>0</td>\n",
       "    </tr>\n",
       "    <tr>\n",
       "      <th>449997</th>\n",
       "      <td>1.5944</td>\n",
       "      <td>1.61</td>\n",
       "      <td>28.0</td>\n",
       "      <td>28.0</td>\n",
       "      <td>0.0</td>\n",
       "      <td>1488.0</td>\n",
       "      <td>204.150000</td>\n",
       "      <td>0</td>\n",
       "      <td>0</td>\n",
       "      <td>0</td>\n",
       "      <td>...</td>\n",
       "      <td>0</td>\n",
       "      <td>0</td>\n",
       "      <td>0</td>\n",
       "      <td>0</td>\n",
       "      <td>0</td>\n",
       "      <td>0</td>\n",
       "      <td>0</td>\n",
       "      <td>0</td>\n",
       "      <td>0</td>\n",
       "      <td>0</td>\n",
       "    </tr>\n",
       "    <tr>\n",
       "      <th>449998</th>\n",
       "      <td>2.8939</td>\n",
       "      <td>4.68</td>\n",
       "      <td>72.0</td>\n",
       "      <td>72.0</td>\n",
       "      <td>0.0</td>\n",
       "      <td>105.0</td>\n",
       "      <td>65.583333</td>\n",
       "      <td>0</td>\n",
       "      <td>0</td>\n",
       "      <td>0</td>\n",
       "      <td>...</td>\n",
       "      <td>0</td>\n",
       "      <td>0</td>\n",
       "      <td>0</td>\n",
       "      <td>0</td>\n",
       "      <td>0</td>\n",
       "      <td>0</td>\n",
       "      <td>0</td>\n",
       "      <td>0</td>\n",
       "      <td>0</td>\n",
       "      <td>0</td>\n",
       "    </tr>\n",
       "    <tr>\n",
       "      <th>449999</th>\n",
       "      <td>1.8925</td>\n",
       "      <td>0.09</td>\n",
       "      <td>30.0</td>\n",
       "      <td>30.0</td>\n",
       "      <td>0.0</td>\n",
       "      <td>108.0</td>\n",
       "      <td>212.000000</td>\n",
       "      <td>0</td>\n",
       "      <td>0</td>\n",
       "      <td>0</td>\n",
       "      <td>...</td>\n",
       "      <td>0</td>\n",
       "      <td>0</td>\n",
       "      <td>0</td>\n",
       "      <td>0</td>\n",
       "      <td>0</td>\n",
       "      <td>0</td>\n",
       "      <td>0</td>\n",
       "      <td>0</td>\n",
       "      <td>0</td>\n",
       "      <td>0</td>\n",
       "    </tr>\n",
       "  </tbody>\n",
       "</table>\n",
       "<p>450000 rows × 28 columns</p>\n",
       "</div>"
      ],
      "text/plain": [
       "        first_mile_distance  last_mile_distance  alloted_orders  \\\n",
       "0                    1.5666                2.65            46.0   \n",
       "1                    2.5207                2.76             8.0   \n",
       "2                    2.2074                4.80             1.0   \n",
       "3                    2.1894                6.38             1.0   \n",
       "4                    2.7870                4.01            34.0   \n",
       "...                     ...                 ...             ...   \n",
       "449995               0.5789                0.19             4.0   \n",
       "449996               1.9863                1.19            81.0   \n",
       "449997               1.5944                1.61            28.0   \n",
       "449998               2.8939                4.68            72.0   \n",
       "449999               1.8925                0.09            30.0   \n",
       "\n",
       "        delivered_orders  undelivered_orders  lifetime_order_count  \\\n",
       "0                   46.0                 0.0                 621.0   \n",
       "1                    8.0                 0.0                 105.0   \n",
       "2                    1.0                 0.0                  66.0   \n",
       "3                    1.0                 0.0                 127.0   \n",
       "4                   34.0                 0.0                  84.0   \n",
       "...                  ...                 ...                   ...   \n",
       "449995               4.0                 0.0                 127.0   \n",
       "449996              81.0                 0.0                 105.0   \n",
       "449997              28.0                 0.0                1488.0   \n",
       "449998              72.0                 0.0                 105.0   \n",
       "449999              30.0                 0.0                 108.0   \n",
       "\n",
       "        session_time  hour-1  hour-2  hour-3  ...  hour-12  hour-13  hour-14  \\\n",
       "0                NaN       0       1       0  ...        0        0        0   \n",
       "1           3.266667       0       1       0  ...        0        0        0   \n",
       "2           9.816667       0       1       0  ...        0        0        0   \n",
       "3          17.533333       0       1       0  ...        0        0        0   \n",
       "4           1.350000       0       0       1  ...        0        0        0   \n",
       "...              ...     ...     ...     ...  ...      ...      ...      ...   \n",
       "449995    369.516667       0       0       0  ...        0        0        0   \n",
       "449996    239.133333       0       0       0  ...        0        0        0   \n",
       "449997    204.150000       0       0       0  ...        0        0        0   \n",
       "449998     65.583333       0       0       0  ...        0        0        0   \n",
       "449999    212.000000       0       0       0  ...        0        0        0   \n",
       "\n",
       "        hour-15  hour-16  hour-17  hour-18  hour-19  hour-20  hour-21  \n",
       "0             0        0        0        0        0        0        0  \n",
       "1             0        0        0        0        0        0        0  \n",
       "2             0        0        0        0        0        0        0  \n",
       "3             0        0        0        0        0        0        0  \n",
       "4             0        0        0        0        0        0        0  \n",
       "...         ...      ...      ...      ...      ...      ...      ...  \n",
       "449995        0        0        0        0        0        0        0  \n",
       "449996        0        0        0        0        0        0        0  \n",
       "449997        0        0        0        0        0        0        0  \n",
       "449998        0        0        0        0        0        0        0  \n",
       "449999        0        0        0        0        0        0        0  \n",
       "\n",
       "[450000 rows x 28 columns]"
      ]
     },
     "execution_count": 15,
     "metadata": {},
     "output_type": "execute_result"
    }
   ],
   "source": [
    "X_dum"
   ]
  },
  {
   "cell_type": "code",
   "execution_count": 16,
   "id": "5d5045d4",
   "metadata": {},
   "outputs": [],
   "source": [
    "import xgboost as xgb"
   ]
  },
  {
   "cell_type": "code",
   "execution_count": 48,
   "id": "d841d059",
   "metadata": {},
   "outputs": [],
   "source": [
    "regressor = xgb.XGBRegressor(\n",
    "    n_estimators=100,\n",
    "    reg_lambda=1,\n",
    "    gamma=0,\n",
    "    max_depth=4\n",
    ")"
   ]
  },
  {
   "cell_type": "code",
   "execution_count": 49,
   "id": "e364c13e",
   "metadata": {},
   "outputs": [
    {
     "data": {
      "text/plain": [
       "XGBRegressor(base_score=0.5, booster='gbtree', colsample_bylevel=1,\n",
       "             colsample_bynode=1, colsample_bytree=1, enable_categorical=False,\n",
       "             gamma=0, gpu_id=-1, importance_type=None,\n",
       "             interaction_constraints='', learning_rate=0.300000012,\n",
       "             max_delta_step=0, max_depth=4, min_child_weight=1, missing=nan,\n",
       "             monotone_constraints='()', n_estimators=100, n_jobs=12,\n",
       "             num_parallel_tree=1, predictor='auto', random_state=0, reg_alpha=0,\n",
       "             reg_lambda=1, scale_pos_weight=1, subsample=1, tree_method='exact',\n",
       "             validate_parameters=1, verbosity=None)"
      ]
     },
     "execution_count": 49,
     "metadata": {},
     "output_type": "execute_result"
    }
   ],
   "source": [
    "regressor.fit(X_dum,Y)"
   ]
  },
  {
   "cell_type": "code",
   "execution_count": 19,
   "id": "e063c260",
   "metadata": {},
   "outputs": [],
   "source": [
    "test=pd.read_csv(\"C:/Users/DELL/Projects/cascade-cup-22/test.csv\")"
   ]
  },
  {
   "cell_type": "code",
   "execution_count": 20,
   "id": "f32189ac",
   "metadata": {},
   "outputs": [
    {
     "name": "stdout",
     "output_type": "stream",
     "text": [
      "<class 'pandas.core.frame.DataFrame'>\n",
      "RangeIndex: 144844 entries, 0 to 144843\n",
      "Data columns (total 16 columns):\n",
      " #   Column                Non-Null Count   Dtype  \n",
      "---  ------                --------------   -----  \n",
      " 0   order_time            144844 non-null  object \n",
      " 1   order_id              144844 non-null  int64  \n",
      " 2   order_date            144844 non-null  object \n",
      " 3   allot_time            144844 non-null  object \n",
      " 4   accept_time           144776 non-null  object \n",
      " 5   rider_id              144844 non-null  int64  \n",
      " 6   first_mile_distance   144844 non-null  float64\n",
      " 7   last_mile_distance    144844 non-null  float64\n",
      " 8   alloted_orders        140071 non-null  float64\n",
      " 9   delivered_orders      139960 non-null  float64\n",
      " 10  undelivered_orders    139960 non-null  float64\n",
      " 11  lifetime_order_count  144066 non-null  float64\n",
      " 12  reassignment_method   4632 non-null    object \n",
      " 13  reassignment_reason   4635 non-null    object \n",
      " 14  reassigned_order      4635 non-null    float64\n",
      " 15  session_time          139790 non-null  float64\n",
      "dtypes: float64(8), int64(2), object(6)\n",
      "memory usage: 17.7+ MB\n"
     ]
    }
   ],
   "source": [
    "test.info()"
   ]
  },
  {
   "cell_type": "code",
   "execution_count": 21,
   "id": "af3e525b",
   "metadata": {},
   "outputs": [],
   "source": [
    "test.drop(['reassignment_method','reassignment_reason','reassigned_order','order_date','allot_time'],axis=1,inplace=True)"
   ]
  },
  {
   "cell_type": "code",
   "execution_count": 22,
   "id": "df855356",
   "metadata": {},
   "outputs": [],
   "source": [
    "test['order_time'] = pd.to_datetime(test.order_time, format='%Y-%m-%d %H:%M:%S')\n",
    "test['hour']=test['order_time'].dt.hour"
   ]
  },
  {
   "cell_type": "code",
   "execution_count": 23,
   "id": "3a18bf5f",
   "metadata": {},
   "outputs": [
    {
     "name": "stdout",
     "output_type": "stream",
     "text": [
      "<class 'pandas.core.frame.DataFrame'>\n",
      "RangeIndex: 144844 entries, 0 to 144843\n",
      "Data columns (total 12 columns):\n",
      " #   Column                Non-Null Count   Dtype         \n",
      "---  ------                --------------   -----         \n",
      " 0   order_time            144844 non-null  datetime64[ns]\n",
      " 1   order_id              144844 non-null  int64         \n",
      " 2   accept_time           144776 non-null  object        \n",
      " 3   rider_id              144844 non-null  int64         \n",
      " 4   first_mile_distance   144844 non-null  float64       \n",
      " 5   last_mile_distance    144844 non-null  float64       \n",
      " 6   alloted_orders        140071 non-null  float64       \n",
      " 7   delivered_orders      139960 non-null  float64       \n",
      " 8   undelivered_orders    139960 non-null  float64       \n",
      " 9   lifetime_order_count  144066 non-null  float64       \n",
      " 10  session_time          139790 non-null  float64       \n",
      " 11  hour                  144844 non-null  int64         \n",
      "dtypes: datetime64[ns](1), float64(7), int64(3), object(1)\n",
      "memory usage: 13.3+ MB\n"
     ]
    }
   ],
   "source": [
    "test.info()"
   ]
  },
  {
   "cell_type": "code",
   "execution_count": 24,
   "id": "a3544eca",
   "metadata": {},
   "outputs": [],
   "source": [
    "odf=test['order_id']\n",
    "test.drop(['order_time','order_id','accept_time','rider_id'],axis=1,inplace=True)\n"
   ]
  },
  {
   "cell_type": "code",
   "execution_count": 25,
   "id": "7e209bbc",
   "metadata": {},
   "outputs": [
    {
     "name": "stdout",
     "output_type": "stream",
     "text": [
      "<class 'pandas.core.frame.DataFrame'>\n",
      "RangeIndex: 144844 entries, 0 to 144843\n",
      "Data columns (total 8 columns):\n",
      " #   Column                Non-Null Count   Dtype   \n",
      "---  ------                --------------   -----   \n",
      " 0   first_mile_distance   144844 non-null  float64 \n",
      " 1   last_mile_distance    144844 non-null  float64 \n",
      " 2   alloted_orders        140071 non-null  float64 \n",
      " 3   delivered_orders      139960 non-null  float64 \n",
      " 4   undelivered_orders    139960 non-null  float64 \n",
      " 5   lifetime_order_count  144066 non-null  float64 \n",
      " 6   session_time          139790 non-null  float64 \n",
      " 7   hour                  144844 non-null  category\n",
      "dtypes: category(1), float64(7)\n",
      "memory usage: 7.9 MB\n"
     ]
    }
   ],
   "source": [
    "test['hour']=test['hour'].astype('category')\n",
    "test.info()"
   ]
  },
  {
   "cell_type": "code",
   "execution_count": 26,
   "id": "ac2aeb95",
   "metadata": {},
   "outputs": [],
   "source": [
    "test_dum=pd.get_dummies(test,prefix_sep='-',drop_first=True)"
   ]
  },
  {
   "cell_type": "code",
   "execution_count": 27,
   "id": "64ebf060",
   "metadata": {},
   "outputs": [
    {
     "name": "stdout",
     "output_type": "stream",
     "text": [
      "<class 'pandas.core.frame.DataFrame'>\n",
      "RangeIndex: 144844 entries, 0 to 144843\n",
      "Data columns (total 26 columns):\n",
      " #   Column                Non-Null Count   Dtype  \n",
      "---  ------                --------------   -----  \n",
      " 0   first_mile_distance   144844 non-null  float64\n",
      " 1   last_mile_distance    144844 non-null  float64\n",
      " 2   alloted_orders        140071 non-null  float64\n",
      " 3   delivered_orders      139960 non-null  float64\n",
      " 4   undelivered_orders    139960 non-null  float64\n",
      " 5   lifetime_order_count  144066 non-null  float64\n",
      " 6   session_time          139790 non-null  float64\n",
      " 7   hour-2                144844 non-null  uint8  \n",
      " 8   hour-3                144844 non-null  uint8  \n",
      " 9   hour-4                144844 non-null  uint8  \n",
      " 10  hour-5                144844 non-null  uint8  \n",
      " 11  hour-6                144844 non-null  uint8  \n",
      " 12  hour-7                144844 non-null  uint8  \n",
      " 13  hour-8                144844 non-null  uint8  \n",
      " 14  hour-9                144844 non-null  uint8  \n",
      " 15  hour-10               144844 non-null  uint8  \n",
      " 16  hour-11               144844 non-null  uint8  \n",
      " 17  hour-12               144844 non-null  uint8  \n",
      " 18  hour-13               144844 non-null  uint8  \n",
      " 19  hour-14               144844 non-null  uint8  \n",
      " 20  hour-15               144844 non-null  uint8  \n",
      " 21  hour-16               144844 non-null  uint8  \n",
      " 22  hour-17               144844 non-null  uint8  \n",
      " 23  hour-18               144844 non-null  uint8  \n",
      " 24  hour-19               144844 non-null  uint8  \n",
      " 25  hour-20               144844 non-null  uint8  \n",
      "dtypes: float64(7), uint8(19)\n",
      "memory usage: 10.4 MB\n"
     ]
    }
   ],
   "source": [
    "test_dum.info()"
   ]
  },
  {
   "cell_type": "code",
   "execution_count": 28,
   "id": "1d88b372",
   "metadata": {},
   "outputs": [],
   "source": [
    "test_dum['hour-21']=0\n"
   ]
  },
  {
   "cell_type": "code",
   "execution_count": 29,
   "id": "92c14612",
   "metadata": {},
   "outputs": [],
   "source": [
    "test_dum['hour-1']=0"
   ]
  },
  {
   "cell_type": "code",
   "execution_count": 30,
   "id": "c8914fda",
   "metadata": {},
   "outputs": [],
   "source": [
    "y_pred = regressor.predict(test_dum)"
   ]
  },
  {
   "cell_type": "code",
   "execution_count": 31,
   "id": "e2c38d95",
   "metadata": {},
   "outputs": [
    {
     "data": {
      "text/plain": [
       "array([0.00624508, 0.01021784, 0.00238199, ..., 0.00558529, 0.01516906,\n",
       "       0.00849732], dtype=float32)"
      ]
     },
     "execution_count": 31,
     "metadata": {},
     "output_type": "execute_result"
    }
   ],
   "source": [
    "y_pred"
   ]
  },
  {
   "cell_type": "code",
   "execution_count": 32,
   "id": "10bed274",
   "metadata": {},
   "outputs": [
    {
     "name": "stdout",
     "output_type": "stream",
     "text": [
      "1126\n"
     ]
    }
   ],
   "source": [
    "sum=0\n",
    "for i in y_pred:\n",
    "    if i>=0.5:\n",
    "        sum=sum+1\n",
    "\n",
    "print(sum)"
   ]
  },
  {
   "cell_type": "code",
   "execution_count": 33,
   "id": "fe2380c5",
   "metadata": {},
   "outputs": [
    {
     "data": {
      "text/plain": [
       "0.006245076"
      ]
     },
     "execution_count": 33,
     "metadata": {},
     "output_type": "execute_result"
    }
   ],
   "source": [
    "y_pred[0]"
   ]
  },
  {
   "cell_type": "code",
   "execution_count": 34,
   "id": "fd510a45",
   "metadata": {},
   "outputs": [],
   "source": [
    "for i in range(len(y_pred)):\n",
    "    if y_pred[i]>=0.5:\n",
    "        y_pred[i]=1\n",
    "    elif y_pred[i]<0.5:\n",
    "        y_pred[i]=0\n"
   ]
  },
  {
   "cell_type": "code",
   "execution_count": 35,
   "id": "c646ff94",
   "metadata": {},
   "outputs": [
    {
     "data": {
      "text/plain": [
       "array([0., 0., 0., ..., 0., 0., 0.], dtype=float32)"
      ]
     },
     "execution_count": 35,
     "metadata": {},
     "output_type": "execute_result"
    }
   ],
   "source": [
    "y_pred"
   ]
  },
  {
   "cell_type": "code",
   "execution_count": 36,
   "id": "c9890200",
   "metadata": {},
   "outputs": [],
   "source": [
    "y_pred=pd.Series(y_pred)"
   ]
  },
  {
   "cell_type": "code",
   "execution_count": 37,
   "id": "a32ec01a",
   "metadata": {},
   "outputs": [],
   "source": [
    "y_pred=y_pred.astype(int)"
   ]
  },
  {
   "cell_type": "code",
   "execution_count": 38,
   "id": "3a808c08",
   "metadata": {},
   "outputs": [
    {
     "data": {
      "text/plain": [
       "0         0\n",
       "1         0\n",
       "2         0\n",
       "3         0\n",
       "4         0\n",
       "         ..\n",
       "144839    0\n",
       "144840    0\n",
       "144841    0\n",
       "144842    0\n",
       "144843    0\n",
       "Length: 144844, dtype: int32"
      ]
     },
     "execution_count": 38,
     "metadata": {},
     "output_type": "execute_result"
    }
   ],
   "source": [
    "y_pred"
   ]
  },
  {
   "cell_type": "code",
   "execution_count": 39,
   "id": "6e35f541",
   "metadata": {},
   "outputs": [],
   "source": [
    "my_sub=pd.DataFrame({'order_id':odf,'cancelled':y_pred})"
   ]
  },
  {
   "cell_type": "code",
   "execution_count": 40,
   "id": "83d0c262",
   "metadata": {},
   "outputs": [
    {
     "data": {
      "text/html": [
       "<div>\n",
       "<style scoped>\n",
       "    .dataframe tbody tr th:only-of-type {\n",
       "        vertical-align: middle;\n",
       "    }\n",
       "\n",
       "    .dataframe tbody tr th {\n",
       "        vertical-align: top;\n",
       "    }\n",
       "\n",
       "    .dataframe thead th {\n",
       "        text-align: right;\n",
       "    }\n",
       "</style>\n",
       "<table border=\"1\" class=\"dataframe\">\n",
       "  <thead>\n",
       "    <tr style=\"text-align: right;\">\n",
       "      <th></th>\n",
       "      <th>order_id</th>\n",
       "      <th>cancelled</th>\n",
       "    </tr>\n",
       "  </thead>\n",
       "  <tbody>\n",
       "    <tr>\n",
       "      <th>0</th>\n",
       "      <td>130231</td>\n",
       "      <td>0</td>\n",
       "    </tr>\n",
       "    <tr>\n",
       "      <th>1</th>\n",
       "      <td>130232</td>\n",
       "      <td>0</td>\n",
       "    </tr>\n",
       "    <tr>\n",
       "      <th>2</th>\n",
       "      <td>130233</td>\n",
       "      <td>0</td>\n",
       "    </tr>\n",
       "    <tr>\n",
       "      <th>3</th>\n",
       "      <td>130234</td>\n",
       "      <td>0</td>\n",
       "    </tr>\n",
       "    <tr>\n",
       "      <th>4</th>\n",
       "      <td>130235</td>\n",
       "      <td>0</td>\n",
       "    </tr>\n",
       "    <tr>\n",
       "      <th>...</th>\n",
       "      <td>...</td>\n",
       "      <td>...</td>\n",
       "    </tr>\n",
       "    <tr>\n",
       "      <th>144839</th>\n",
       "      <td>41184</td>\n",
       "      <td>0</td>\n",
       "    </tr>\n",
       "    <tr>\n",
       "      <th>144840</th>\n",
       "      <td>41185</td>\n",
       "      <td>0</td>\n",
       "    </tr>\n",
       "    <tr>\n",
       "      <th>144841</th>\n",
       "      <td>41186</td>\n",
       "      <td>0</td>\n",
       "    </tr>\n",
       "    <tr>\n",
       "      <th>144842</th>\n",
       "      <td>41187</td>\n",
       "      <td>0</td>\n",
       "    </tr>\n",
       "    <tr>\n",
       "      <th>144843</th>\n",
       "      <td>41188</td>\n",
       "      <td>0</td>\n",
       "    </tr>\n",
       "  </tbody>\n",
       "</table>\n",
       "<p>144844 rows × 2 columns</p>\n",
       "</div>"
      ],
      "text/plain": [
       "        order_id  cancelled\n",
       "0         130231          0\n",
       "1         130232          0\n",
       "2         130233          0\n",
       "3         130234          0\n",
       "4         130235          0\n",
       "...          ...        ...\n",
       "144839     41184          0\n",
       "144840     41185          0\n",
       "144841     41186          0\n",
       "144842     41187          0\n",
       "144843     41188          0\n",
       "\n",
       "[144844 rows x 2 columns]"
      ]
     },
     "execution_count": 40,
     "metadata": {},
     "output_type": "execute_result"
    }
   ],
   "source": [
    "my_sub"
   ]
  },
  {
   "cell_type": "code",
   "execution_count": 41,
   "id": "5e079284",
   "metadata": {},
   "outputs": [],
   "source": [
    "example=pd.read_csv(\"C:/Users/DELL/Projects/cascade-cup-22/sample_submission.csv\")"
   ]
  },
  {
   "cell_type": "code",
   "execution_count": 42,
   "id": "cddd0009",
   "metadata": {},
   "outputs": [
    {
     "data": {
      "text/html": [
       "<div>\n",
       "<style scoped>\n",
       "    .dataframe tbody tr th:only-of-type {\n",
       "        vertical-align: middle;\n",
       "    }\n",
       "\n",
       "    .dataframe tbody tr th {\n",
       "        vertical-align: top;\n",
       "    }\n",
       "\n",
       "    .dataframe thead th {\n",
       "        text-align: right;\n",
       "    }\n",
       "</style>\n",
       "<table border=\"1\" class=\"dataframe\">\n",
       "  <thead>\n",
       "    <tr style=\"text-align: right;\">\n",
       "      <th></th>\n",
       "      <th>order_id</th>\n",
       "      <th>cancelled</th>\n",
       "    </tr>\n",
       "  </thead>\n",
       "  <tbody>\n",
       "    <tr>\n",
       "      <th>0</th>\n",
       "      <td>130231</td>\n",
       "      <td>0</td>\n",
       "    </tr>\n",
       "    <tr>\n",
       "      <th>1</th>\n",
       "      <td>130232</td>\n",
       "      <td>0</td>\n",
       "    </tr>\n",
       "    <tr>\n",
       "      <th>2</th>\n",
       "      <td>130233</td>\n",
       "      <td>0</td>\n",
       "    </tr>\n",
       "    <tr>\n",
       "      <th>3</th>\n",
       "      <td>130234</td>\n",
       "      <td>0</td>\n",
       "    </tr>\n",
       "    <tr>\n",
       "      <th>4</th>\n",
       "      <td>130235</td>\n",
       "      <td>0</td>\n",
       "    </tr>\n",
       "    <tr>\n",
       "      <th>...</th>\n",
       "      <td>...</td>\n",
       "      <td>...</td>\n",
       "    </tr>\n",
       "    <tr>\n",
       "      <th>144839</th>\n",
       "      <td>41184</td>\n",
       "      <td>0</td>\n",
       "    </tr>\n",
       "    <tr>\n",
       "      <th>144840</th>\n",
       "      <td>41185</td>\n",
       "      <td>0</td>\n",
       "    </tr>\n",
       "    <tr>\n",
       "      <th>144841</th>\n",
       "      <td>41186</td>\n",
       "      <td>0</td>\n",
       "    </tr>\n",
       "    <tr>\n",
       "      <th>144842</th>\n",
       "      <td>41187</td>\n",
       "      <td>0</td>\n",
       "    </tr>\n",
       "    <tr>\n",
       "      <th>144843</th>\n",
       "      <td>41188</td>\n",
       "      <td>0</td>\n",
       "    </tr>\n",
       "  </tbody>\n",
       "</table>\n",
       "<p>144844 rows × 2 columns</p>\n",
       "</div>"
      ],
      "text/plain": [
       "        order_id  cancelled\n",
       "0         130231          0\n",
       "1         130232          0\n",
       "2         130233          0\n",
       "3         130234          0\n",
       "4         130235          0\n",
       "...          ...        ...\n",
       "144839     41184          0\n",
       "144840     41185          0\n",
       "144841     41186          0\n",
       "144842     41187          0\n",
       "144843     41188          0\n",
       "\n",
       "[144844 rows x 2 columns]"
      ]
     },
     "execution_count": 42,
     "metadata": {},
     "output_type": "execute_result"
    }
   ],
   "source": [
    "example"
   ]
  },
  {
   "cell_type": "code",
   "execution_count": 43,
   "id": "a2316c9a",
   "metadata": {},
   "outputs": [],
   "source": [
    "my_sub.to_csv('sub.csv')"
   ]
  },
  {
   "cell_type": "code",
   "execution_count": 47,
   "id": "b79c3b5a",
   "metadata": {},
   "outputs": [],
   "source": [
    "regressor_1 = xgb.XGBRegressor(\n",
    "    max_depth=5,\n",
    "    learning_rate=0.1\n",
    ")"
   ]
  },
  {
   "cell_type": "code",
   "execution_count": 50,
   "id": "ee582993",
   "metadata": {},
   "outputs": [
    {
     "data": {
      "text/plain": [
       "XGBRegressor(base_score=0.5, booster='gbtree', colsample_bylevel=1,\n",
       "             colsample_bynode=1, colsample_bytree=1, enable_categorical=False,\n",
       "             gamma=0, gpu_id=-1, importance_type=None,\n",
       "             interaction_constraints='', learning_rate=0.1, max_delta_step=0,\n",
       "             max_depth=5, min_child_weight=1, missing=nan,\n",
       "             monotone_constraints='()', n_estimators=100, n_jobs=12,\n",
       "             num_parallel_tree=1, predictor='auto', random_state=0, reg_alpha=0,\n",
       "             reg_lambda=1, scale_pos_weight=1, subsample=1, tree_method='exact',\n",
       "             validate_parameters=1, verbosity=None)"
      ]
     },
     "execution_count": 50,
     "metadata": {},
     "output_type": "execute_result"
    }
   ],
   "source": [
    "regressor_1.fit(X_dum,Y)"
   ]
  },
  {
   "cell_type": "code",
   "execution_count": 55,
   "id": "bdc9324f",
   "metadata": {},
   "outputs": [],
   "source": [
    "y_pred_1 = regressor_1.predict(test_dum)"
   ]
  },
  {
   "cell_type": "code",
   "execution_count": 56,
   "id": "6cd6beb6",
   "metadata": {},
   "outputs": [
    {
     "data": {
      "text/plain": [
       "array([0.00583235, 0.0109041 , 0.00296786, ..., 0.00628962, 0.00629561,\n",
       "       0.00946227], dtype=float32)"
      ]
     },
     "execution_count": 56,
     "metadata": {},
     "output_type": "execute_result"
    }
   ],
   "source": [
    "y_pred_1"
   ]
  },
  {
   "cell_type": "code",
   "execution_count": 57,
   "id": "b19accf5",
   "metadata": {},
   "outputs": [
    {
     "name": "stdout",
     "output_type": "stream",
     "text": [
      "1098\n"
     ]
    }
   ],
   "source": [
    "sum=0\n",
    "for i in y_pred_1:\n",
    "    if i>=0.5:\n",
    "        sum=sum+1\n",
    "\n",
    "print(sum)"
   ]
  },
  {
   "cell_type": "code",
   "execution_count": 63,
   "id": "b5fda0f3",
   "metadata": {},
   "outputs": [],
   "source": [
    "for i in range(len(y_pred_1)):\n",
    "    if y_pred_1[i]>=0.5:\n",
    "        y_pred_1[i]=1\n",
    "    elif y_pred_1[i]<0.5:\n",
    "        y_pred_1[i]=0\n"
   ]
  },
  {
   "cell_type": "code",
   "execution_count": 64,
   "id": "9bb67294",
   "metadata": {},
   "outputs": [
    {
     "data": {
      "text/plain": [
       "array([0, 0, 0, ..., 0, 0, 0])"
      ]
     },
     "execution_count": 64,
     "metadata": {},
     "output_type": "execute_result"
    }
   ],
   "source": [
    "y_pred_1"
   ]
  },
  {
   "cell_type": "code",
   "execution_count": 67,
   "id": "f6926e43",
   "metadata": {},
   "outputs": [],
   "source": [
    "y_pred_1=pd.Series(y_pred_1)\n",
    "y_pred_1=y_pred_1.astype(int)"
   ]
  },
  {
   "cell_type": "code",
   "execution_count": 68,
   "id": "345f14a7",
   "metadata": {},
   "outputs": [
    {
     "data": {
      "text/plain": [
       "0         0\n",
       "1         0\n",
       "2         0\n",
       "3         0\n",
       "4         0\n",
       "         ..\n",
       "144839    0\n",
       "144840    0\n",
       "144841    0\n",
       "144842    0\n",
       "144843    0\n",
       "Length: 144844, dtype: int32"
      ]
     },
     "execution_count": 68,
     "metadata": {},
     "output_type": "execute_result"
    }
   ],
   "source": [
    "y_pred_1"
   ]
  },
  {
   "cell_type": "code",
   "execution_count": 69,
   "id": "904ed947",
   "metadata": {},
   "outputs": [
    {
     "data": {
      "text/plain": [
       "array([0, 1])"
      ]
     },
     "execution_count": 69,
     "metadata": {},
     "output_type": "execute_result"
    }
   ],
   "source": [
    "y_pred_1.unique()"
   ]
  },
  {
   "cell_type": "code",
   "execution_count": 70,
   "id": "36130cc7",
   "metadata": {},
   "outputs": [
    {
     "data": {
      "text/plain": [
       "0    143746\n",
       "1      1098\n",
       "dtype: int64"
      ]
     },
     "execution_count": 70,
     "metadata": {},
     "output_type": "execute_result"
    }
   ],
   "source": [
    "y_pred_1.value_counts()"
   ]
  },
  {
   "cell_type": "code",
   "execution_count": 71,
   "id": "393469b4",
   "metadata": {},
   "outputs": [],
   "source": [
    "my_sub_1=pd.DataFrame({'order_id':odf,'cancelled':y_pred_1})"
   ]
  },
  {
   "cell_type": "code",
   "execution_count": 72,
   "id": "3812e11c",
   "metadata": {},
   "outputs": [],
   "source": [
    "my_sub_1.to_csv('sub_1.csv')"
   ]
  },
  {
   "cell_type": "code",
   "execution_count": 73,
   "id": "9f05395b",
   "metadata": {},
   "outputs": [],
   "source": [
    "regressor_2 = xgb.XGBRegressor(\n",
    "    max_depth=8,\n",
    "    learning_rate=0.01\n",
    ")"
   ]
  },
  {
   "cell_type": "code",
   "execution_count": 80,
   "id": "120394c0",
   "metadata": {},
   "outputs": [
    {
     "data": {
      "text/plain": [
       "XGBRegressor(base_score=0.5, booster='gbtree', colsample_bylevel=1,\n",
       "             colsample_bynode=1, colsample_bytree=1, enable_categorical=False,\n",
       "             gamma=0, gpu_id=-1, importance_type=None,\n",
       "             interaction_constraints='', learning_rate=0.01, max_delta_step=0,\n",
       "             max_depth=8, min_child_weight=1, missing=nan,\n",
       "             monotone_constraints='()', n_estimators=100, n_jobs=12,\n",
       "             num_parallel_tree=1, predictor='auto', random_state=0, reg_alpha=0,\n",
       "             reg_lambda=1, scale_pos_weight=1, subsample=1, tree_method='exact',\n",
       "             validate_parameters=1, verbosity=None)"
      ]
     },
     "execution_count": 80,
     "metadata": {},
     "output_type": "execute_result"
    }
   ],
   "source": [
    "regressor_2.fit(X_dum,Y)"
   ]
  },
  {
   "cell_type": "code",
   "execution_count": 81,
   "id": "b919dfba",
   "metadata": {},
   "outputs": [],
   "source": [
    "y_pred_2 = regressor_2.predict(test_dum)"
   ]
  },
  {
   "cell_type": "code",
   "execution_count": 82,
   "id": "1b953624",
   "metadata": {},
   "outputs": [
    {
     "data": {
      "text/plain": [
       "array([0.18751243, 0.19061595, 0.18685654, ..., 0.18779399, 0.18865533,\n",
       "       0.18954541], dtype=float32)"
      ]
     },
     "execution_count": 82,
     "metadata": {},
     "output_type": "execute_result"
    }
   ],
   "source": [
    "y_pred_2"
   ]
  },
  {
   "cell_type": "code",
   "execution_count": 83,
   "id": "8d1dd638",
   "metadata": {},
   "outputs": [],
   "source": [
    "for i in range(len(y_pred_2)):\n",
    "    if y_pred_2[i]>=0.5:\n",
    "        y_pred_2[i]=1\n",
    "    elif y_pred_2[i]<0.5:\n",
    "        y_pred_2[i]=0\n"
   ]
  },
  {
   "cell_type": "code",
   "execution_count": 84,
   "id": "a7c159e2",
   "metadata": {},
   "outputs": [],
   "source": [
    "y_pred_2=pd.Series(y_pred_2)\n",
    "y_pred_2=y_pred_2.astype(int)"
   ]
  },
  {
   "cell_type": "code",
   "execution_count": 85,
   "id": "82e5990a",
   "metadata": {},
   "outputs": [
    {
     "data": {
      "text/plain": [
       "0    143700\n",
       "1      1144\n",
       "dtype: int64"
      ]
     },
     "execution_count": 85,
     "metadata": {},
     "output_type": "execute_result"
    }
   ],
   "source": [
    "y_pred_2.value_counts()"
   ]
  },
  {
   "cell_type": "code",
   "execution_count": 86,
   "id": "6ade69b9",
   "metadata": {},
   "outputs": [],
   "source": [
    "my_sub_2=pd.DataFrame({'order_id':odf,'cancelled':y_pred_2})"
   ]
  },
  {
   "cell_type": "code",
   "execution_count": 87,
   "id": "c8e9d949",
   "metadata": {},
   "outputs": [],
   "source": [
    "my_sub_2.to_csv('sub_2.csv')"
   ]
  },
  {
   "cell_type": "code",
   "execution_count": 89,
   "id": "e99f1d80",
   "metadata": {},
   "outputs": [
    {
     "data": {
      "text/plain": [
       "array([0], dtype=int64)"
      ]
     },
     "execution_count": 89,
     "metadata": {},
     "output_type": "execute_result"
    }
   ],
   "source": [
    "example['cancelled'].unique()"
   ]
  },
  {
   "cell_type": "code",
   "execution_count": 90,
   "id": "aea7c33d",
   "metadata": {},
   "outputs": [],
   "source": [
    "regressor_3 = xgb.XGBRegressor(\n",
    "    max_depth=6,\n",
    "    learning_rate=0.05\n",
    ")"
   ]
  },
  {
   "cell_type": "code",
   "execution_count": 92,
   "id": "985ee675",
   "metadata": {},
   "outputs": [
    {
     "data": {
      "text/plain": [
       "XGBRegressor(base_score=0.5, booster='gbtree', colsample_bylevel=1,\n",
       "             colsample_bynode=1, colsample_bytree=1, enable_categorical=False,\n",
       "             gamma=0, gpu_id=-1, importance_type=None,\n",
       "             interaction_constraints='', learning_rate=0.05, max_delta_step=0,\n",
       "             max_depth=6, min_child_weight=1, missing=nan,\n",
       "             monotone_constraints='()', n_estimators=100, n_jobs=12,\n",
       "             num_parallel_tree=1, predictor='auto', random_state=0, reg_alpha=0,\n",
       "             reg_lambda=1, scale_pos_weight=1, subsample=1, tree_method='exact',\n",
       "             validate_parameters=1, verbosity=None)"
      ]
     },
     "execution_count": 92,
     "metadata": {},
     "output_type": "execute_result"
    }
   ],
   "source": [
    "regressor_3.fit(X_dum,Y)"
   ]
  },
  {
   "cell_type": "code",
   "execution_count": 93,
   "id": "43d23ccd",
   "metadata": {},
   "outputs": [],
   "source": [
    "y_pred_3 = regressor_3.predict(test_dum)"
   ]
  },
  {
   "cell_type": "code",
   "execution_count": 94,
   "id": "e6be59ac",
   "metadata": {},
   "outputs": [
    {
     "data": {
      "text/plain": [
       "array([0.00880539, 0.0140007 , 0.00698292, ..., 0.01512781, 0.01379051,\n",
       "       0.01186159], dtype=float32)"
      ]
     },
     "execution_count": 94,
     "metadata": {},
     "output_type": "execute_result"
    }
   ],
   "source": [
    "y_pred_3"
   ]
  },
  {
   "cell_type": "code",
   "execution_count": 95,
   "id": "a511a4c8",
   "metadata": {},
   "outputs": [],
   "source": [
    "for i in range(len(y_pred_3)):\n",
    "    if y_pred_3[i]>=0.5:\n",
    "        y_pred_3[i]=1\n",
    "    elif y_pred_3[i]<0.5:\n",
    "        y_pred_3[i]=0"
   ]
  },
  {
   "cell_type": "code",
   "execution_count": 97,
   "id": "5e99cef2",
   "metadata": {},
   "outputs": [],
   "source": [
    "y_pred_3=pd.Series(y_pred_3)\n",
    "y_pred_3=y_pred_3.astype(int)"
   ]
  },
  {
   "cell_type": "code",
   "execution_count": 99,
   "id": "70406005",
   "metadata": {},
   "outputs": [
    {
     "data": {
      "text/plain": [
       "0    143725\n",
       "1      1119\n",
       "dtype: int64"
      ]
     },
     "execution_count": 99,
     "metadata": {},
     "output_type": "execute_result"
    }
   ],
   "source": [
    "y_pred_3.value_counts()"
   ]
  },
  {
   "cell_type": "code",
   "execution_count": 100,
   "id": "a9fc6e59",
   "metadata": {},
   "outputs": [],
   "source": [
    "my_sub_3=pd.DataFrame({'order_id':odf,'cancelled':y_pred_3})"
   ]
  },
  {
   "cell_type": "code",
   "execution_count": 101,
   "id": "9db9456d",
   "metadata": {},
   "outputs": [
    {
     "data": {
      "text/html": [
       "<div>\n",
       "<style scoped>\n",
       "    .dataframe tbody tr th:only-of-type {\n",
       "        vertical-align: middle;\n",
       "    }\n",
       "\n",
       "    .dataframe tbody tr th {\n",
       "        vertical-align: top;\n",
       "    }\n",
       "\n",
       "    .dataframe thead th {\n",
       "        text-align: right;\n",
       "    }\n",
       "</style>\n",
       "<table border=\"1\" class=\"dataframe\">\n",
       "  <thead>\n",
       "    <tr style=\"text-align: right;\">\n",
       "      <th></th>\n",
       "      <th>order_id</th>\n",
       "      <th>cancelled</th>\n",
       "    </tr>\n",
       "  </thead>\n",
       "  <tbody>\n",
       "    <tr>\n",
       "      <th>0</th>\n",
       "      <td>130231</td>\n",
       "      <td>0</td>\n",
       "    </tr>\n",
       "    <tr>\n",
       "      <th>1</th>\n",
       "      <td>130232</td>\n",
       "      <td>0</td>\n",
       "    </tr>\n",
       "    <tr>\n",
       "      <th>2</th>\n",
       "      <td>130233</td>\n",
       "      <td>0</td>\n",
       "    </tr>\n",
       "    <tr>\n",
       "      <th>3</th>\n",
       "      <td>130234</td>\n",
       "      <td>0</td>\n",
       "    </tr>\n",
       "    <tr>\n",
       "      <th>4</th>\n",
       "      <td>130235</td>\n",
       "      <td>0</td>\n",
       "    </tr>\n",
       "    <tr>\n",
       "      <th>...</th>\n",
       "      <td>...</td>\n",
       "      <td>...</td>\n",
       "    </tr>\n",
       "    <tr>\n",
       "      <th>144839</th>\n",
       "      <td>41184</td>\n",
       "      <td>0</td>\n",
       "    </tr>\n",
       "    <tr>\n",
       "      <th>144840</th>\n",
       "      <td>41185</td>\n",
       "      <td>0</td>\n",
       "    </tr>\n",
       "    <tr>\n",
       "      <th>144841</th>\n",
       "      <td>41186</td>\n",
       "      <td>0</td>\n",
       "    </tr>\n",
       "    <tr>\n",
       "      <th>144842</th>\n",
       "      <td>41187</td>\n",
       "      <td>0</td>\n",
       "    </tr>\n",
       "    <tr>\n",
       "      <th>144843</th>\n",
       "      <td>41188</td>\n",
       "      <td>0</td>\n",
       "    </tr>\n",
       "  </tbody>\n",
       "</table>\n",
       "<p>144844 rows × 2 columns</p>\n",
       "</div>"
      ],
      "text/plain": [
       "        order_id  cancelled\n",
       "0         130231          0\n",
       "1         130232          0\n",
       "2         130233          0\n",
       "3         130234          0\n",
       "4         130235          0\n",
       "...          ...        ...\n",
       "144839     41184          0\n",
       "144840     41185          0\n",
       "144841     41186          0\n",
       "144842     41187          0\n",
       "144843     41188          0\n",
       "\n",
       "[144844 rows x 2 columns]"
      ]
     },
     "execution_count": 101,
     "metadata": {},
     "output_type": "execute_result"
    }
   ],
   "source": [
    "my_sub_3"
   ]
  },
  {
   "cell_type": "code",
   "execution_count": 102,
   "id": "7d93c4b2",
   "metadata": {},
   "outputs": [],
   "source": [
    "my_sub_3.to_csv('sub_3.csv')"
   ]
  },
  {
   "cell_type": "code",
   "execution_count": null,
   "id": "988b34ef",
   "metadata": {},
   "outputs": [],
   "source": []
  }
 ],
 "metadata": {
  "kernelspec": {
   "display_name": "Python 3",
   "language": "python",
   "name": "python3"
  },
  "language_info": {
   "codemirror_mode": {
    "name": "ipython",
    "version": 3
   },
   "file_extension": ".py",
   "mimetype": "text/x-python",
   "name": "python",
   "nbconvert_exporter": "python",
   "pygments_lexer": "ipython3",
   "version": "3.8.8"
  }
 },
 "nbformat": 4,
 "nbformat_minor": 5
}
